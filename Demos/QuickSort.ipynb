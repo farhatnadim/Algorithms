{
 "cells": [
  {
   "cell_type": "code",
   "execution_count": 6,
   "metadata": {
    "vscode": {
     "languageId": "shellscript"
    }
   },
   "outputs": [],
   "source": [
    "#\n",
    "import numpy as np\n",
    "\n",
    "Array_Size = 10 # static array size \n",
    "MAX = 10\n",
    "MIN = 0\n",
    "\n",
    "random_array = np.random.choice(MAX,Array_Size,replace=False)\n",
    "\n",
    "random_number_index  = np.random.randint(MIN,Array_Size)\n",
    "\n",
    "\n",
    "def partition(array, left, right):\n",
    "    if left >= right:\n",
    "        return -1\n",
    "    pivot_value = array[left]\n",
    "    less_index= left + 1\n",
    "\n",
    "    for greater_index in range(left + 1, right):\n",
    "        if array[greater_index] < pivot_value:\n",
    "            array[less_index], array[greater_index] = array[greater_index], array[less_index]\n",
    "            less_index+= 1\n",
    "\n",
    "    array[left], array[less_index- 1] = array[less_index- 1], array[left]\n",
    "    pivot_index = less_index- 1 \n",
    "\n",
    "    return pivot_index\n",
    "\n",
    "def QuickSort(array, left, right):\n",
    "    if left < right:\n",
    "        return\n",
    "    pivot_index = np.random.randint(left, right)\n",
    "    array[left], array[pivot_index] = array[pivot_index], array[left]\n",
    "    new_pivot_index = partition(array, left, right)\n",
    "    QuickSort(array, left, new_pivot_index)\n",
    "    QuickSort(array, new_pivot_index + 1, right)\n",
    "\n",
    "\n"
   ]
  },
  {
   "cell_type": "code",
   "execution_count": 7,
   "metadata": {
    "vscode": {
     "languageId": "shellscript"
    }
   },
   "outputs": [
    {
     "data": {
      "text/plain": [
       "array([2, 3, 5, 4, 6, 0, 1, 7, 8, 9])"
      ]
     },
     "execution_count": 7,
     "metadata": {},
     "output_type": "execute_result"
    }
   ],
   "source": [
    "random_array"
   ]
  },
  {
   "cell_type": "code",
   "execution_count": 9,
   "metadata": {
    "vscode": {
     "languageId": "shellscript"
    }
   },
   "outputs": [
    {
     "name": "stdout",
     "output_type": "stream",
     "text": [
      "[2 3 5 4 6 0 1 7 8 9]\n"
     ]
    }
   ],
   "source": [
    "QuickSort(random_array,0,len(random_array))\n",
    "print(random_array)"
   ]
  },
  {
   "cell_type": "code",
   "execution_count": null,
   "metadata": {
    "vscode": {
     "languageId": "shellscript"
    }
   },
   "outputs": [],
   "source": []
  }
 ],
 "metadata": {
  "kernelspec": {
   "display_name": "Python 3",
   "language": "python",
   "name": "python3"
  },
  "language_info": {
   "codemirror_mode": {
    "name": "ipython",
    "version": 3
   },
   "file_extension": ".py",
   "mimetype": "text/x-python",
   "name": "python",
   "nbconvert_exporter": "python",
   "pygments_lexer": "ipython3",
   "version": "3.10.12"
  }
 },
 "nbformat": 4,
 "nbformat_minor": 2
}
