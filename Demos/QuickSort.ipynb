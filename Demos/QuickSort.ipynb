{
 "cells": [
  {
   "cell_type": "code",
   "execution_count": 12,
   "metadata": {},
   "outputs": [
    {
     "data": {
      "text/plain": [
       "7"
      ]
     },
     "execution_count": 12,
     "metadata": {},
     "output_type": "execute_result"
    }
   ],
   "source": [
    "#\n",
    "import numpy as np\n",
    "\n",
    "Array_Size = 10 # static array size \n",
    "MAX = 10\n",
    "MIN = 0\n",
    "\n",
    "random_array = np.random.choice(MAX,Array_Size,replace=False)\n",
    "\n",
    "random_number_index  = np.random.randint(MIN,Array_Size)\n",
    "\n",
    "\n",
    "def partition(array,l,r):\n",
    "    '''Input: Array A of n distinct integers,left and right endpoints l'''\n",
    "    '''Output: Final position of pivot element'''\n",
    "    if l >= len(array) or r > len(array):\n",
    "        return -1\n",
    "    p = array[l]\n",
    "    i = l+1 #most left index of the elements smaller than \n",
    "\n",
    "    for j in range(l+1,r):\n",
    "        \n",
    "        if array[j] < p:\n",
    "            array[i], array[j] = array[j], array[i]\n",
    "            i = i+1\n",
    "    array[l], array[i-1] = array[i-1], array[l]\n",
    "\n",
    "    return i-1\n",
    "\n",
    "def QuickSort(array,l,r):\n",
    "    '''input: Array of n distinct integers'''\n",
    "    if len(array) <= 1:\n",
    "        return array \n",
    "    random_number_index  = np.random.randint(MIN,Array_Size)\n",
    "    array[random_number_index], array[0] =array[0], array[random_number_index]\n",
    "    pivot = partition(array,)\n"
   ]
  },
  {
   "cell_type": "code",
   "execution_count": null,
   "metadata": {},
   "outputs": [],
   "source": []
  }
 ],
 "metadata": {
  "kernelspec": {
   "display_name": "Python 3",
   "language": "python",
   "name": "python3"
  },
  "language_info": {
   "codemirror_mode": {
    "name": "ipython",
    "version": 3
   },
   "file_extension": ".py",
   "mimetype": "text/x-python",
   "name": "python",
   "nbconvert_exporter": "python",
   "pygments_lexer": "ipython3",
   "version": "3.10.12"
  }
 },
 "nbformat": 4,
 "nbformat_minor": 2
}
